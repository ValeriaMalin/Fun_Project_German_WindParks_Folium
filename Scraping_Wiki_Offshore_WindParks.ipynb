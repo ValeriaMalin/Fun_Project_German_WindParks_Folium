{
 "cells": [
  {
   "cell_type": "markdown",
   "id": "69e1e11e",
   "metadata": {},
   "source": [
    "### Data collection to label the offshores wind-parcs of Germany on the map"
   ]
  },
  {
   "cell_type": "code",
   "execution_count": 7,
   "id": "cd3acbc0",
   "metadata": {},
   "outputs": [],
   "source": [
    "import pandas as pd\n",
    "import numpy as np\n",
    "import re"
   ]
  },
  {
   "cell_type": "code",
   "execution_count": 3,
   "id": "1f934dfb",
   "metadata": {},
   "outputs": [
    {
     "data": {
      "text/html": [
       "<div>\n",
       "<style scoped>\n",
       "    .dataframe tbody tr th:only-of-type {\n",
       "        vertical-align: middle;\n",
       "    }\n",
       "\n",
       "    .dataframe tbody tr th {\n",
       "        vertical-align: top;\n",
       "    }\n",
       "\n",
       "    .dataframe thead th {\n",
       "        text-align: right;\n",
       "    }\n",
       "</style>\n",
       "<table border=\"1\" class=\"dataframe\">\n",
       "  <thead>\n",
       "    <tr style=\"text-align: right;\">\n",
       "      <th></th>\n",
       "      <th>Name</th>\n",
       "      <th>Leistung (MW)</th>\n",
       "      <th>Windkraftanlagentyp (Leistung, Rotordurchmesser)</th>\n",
       "      <th>Anzahl WKAs</th>\n",
       "      <th>Koordinaten</th>\n",
       "      <th>Status</th>\n",
       "      <th>Inbetrieb­nahme (Jahr)</th>\n",
       "      <th>Quellen, Anmerkungen</th>\n",
       "    </tr>\n",
       "  </thead>\n",
       "  <tbody>\n",
       "    <tr>\n",
       "      <th>0</th>\n",
       "      <td>Nordsee</td>\n",
       "      <td>Nordsee</td>\n",
       "      <td>Nordsee</td>\n",
       "      <td>Nordsee</td>\n",
       "      <td>Nordsee</td>\n",
       "      <td>Nordsee</td>\n",
       "      <td>Nordsee</td>\n",
       "      <td>Nordsee</td>\n",
       "    </tr>\n",
       "    <tr>\n",
       "      <th>1</th>\n",
       "      <td>alpha ventus</td>\n",
       "      <td>6048</td>\n",
       "      <td>6 × REpower 5M (5,08 MW, 126,5 m) 6 × AREVA M5...</td>\n",
       "      <td>12</td>\n",
       "      <td>54° 0′ 30″ N, 6° 35′ 54″ O</td>\n",
       "      <td>in Betrieb</td>\n",
       "      <td>2010</td>\n",
       "      <td>NaN</td>\n",
       "    </tr>\n",
       "    <tr>\n",
       "      <th>2</th>\n",
       "      <td>BARD Offshore I</td>\n",
       "      <td>400</td>\n",
       "      <td>BARD 5.0 (5,0 MW, 122,0 m)</td>\n",
       "      <td>80</td>\n",
       "      <td>54° 21′ 30″ N, 5° 58′ 30″ O</td>\n",
       "      <td>in Betrieb</td>\n",
       "      <td>2013</td>\n",
       "      <td>NaN</td>\n",
       "    </tr>\n",
       "    <tr>\n",
       "      <th>3</th>\n",
       "      <td>Riffgat</td>\n",
       "      <td>1134</td>\n",
       "      <td>Siemens SWT-3.6-120 (3,78 MW, 120,0 m)</td>\n",
       "      <td>30</td>\n",
       "      <td>53° 41′ 24″ N, 6° 28′ 48″ O</td>\n",
       "      <td>in Betrieb</td>\n",
       "      <td>2014</td>\n",
       "      <td>[5]</td>\n",
       "    </tr>\n",
       "    <tr>\n",
       "      <th>4</th>\n",
       "      <td>Amrumbank West</td>\n",
       "      <td>3024</td>\n",
       "      <td>Siemens SWT-3.6-120 (3,78 MW, 120,0 m)</td>\n",
       "      <td>80</td>\n",
       "      <td>54° 30′ 0″ N, 7° 48′ 0″ O</td>\n",
       "      <td>in Betrieb</td>\n",
       "      <td>2015</td>\n",
       "      <td>[6][7]</td>\n",
       "    </tr>\n",
       "  </tbody>\n",
       "</table>\n",
       "</div>"
      ],
      "text/plain": [
       "              Name Leistung (MW)  \\\n",
       "0          Nordsee       Nordsee   \n",
       "1     alpha ventus          6048   \n",
       "2  BARD Offshore I           400   \n",
       "3          Riffgat          1134   \n",
       "4   Amrumbank West          3024   \n",
       "\n",
       "    Windkraftanlagentyp (Leistung, Rotordurchmesser) Anzahl WKAs  \\\n",
       "0                                            Nordsee     Nordsee   \n",
       "1  6 × REpower 5M (5,08 MW, 126,5 m) 6 × AREVA M5...          12   \n",
       "2                         BARD 5.0 (5,0 MW, 122,0 m)          80   \n",
       "3             Siemens SWT-3.6-120 (3,78 MW, 120,0 m)          30   \n",
       "4             Siemens SWT-3.6-120 (3,78 MW, 120,0 m)          80   \n",
       "\n",
       "                   Koordinaten      Status Inbetrieb­nahme (Jahr)  \\\n",
       "0                      Nordsee     Nordsee                Nordsee   \n",
       "1   54° 0′ 30″ N, 6° 35′ 54″ O  in Betrieb                   2010   \n",
       "2  54° 21′ 30″ N, 5° 58′ 30″ O  in Betrieb                   2013   \n",
       "3  53° 41′ 24″ N, 6° 28′ 48″ O  in Betrieb                   2014   \n",
       "4    54° 30′ 0″ N, 7° 48′ 0″ O  in Betrieb                   2015   \n",
       "\n",
       "  Quellen, Anmerkungen  \n",
       "0              Nordsee  \n",
       "1                  NaN  \n",
       "2                  NaN  \n",
       "3                  [5]  \n",
       "4               [6][7]  "
      ]
     },
     "execution_count": 3,
     "metadata": {},
     "output_type": "execute_result"
    }
   ],
   "source": [
    "link = \"https://de.wikipedia.org/wiki/Liste_der_deutschen_Offshore-Windparks\"\n",
    "\n",
    "offshores = pd.read_html(link,header=0)[0]\n",
    "\n",
    "\n",
    "\n",
    "offshores.head(5)"
   ]
  },
  {
   "cell_type": "code",
   "execution_count": 4,
   "id": "b2452f00",
   "metadata": {},
   "outputs": [
    {
     "name": "stdout",
     "output_type": "stream",
     "text": [
      "<class 'pandas.core.frame.DataFrame'>\n",
      "RangeIndex: 47 entries, 0 to 46\n",
      "Data columns (total 10 columns):\n",
      " #   Column                                            Non-Null Count  Dtype \n",
      "---  ------                                            --------------  ----- \n",
      " 0   Name                                              47 non-null     object\n",
      " 1   Leistung (MW)                                     47 non-null     object\n",
      " 2   Windkraftanlagentyp (Leistung, Rotordurchmesser)  39 non-null     object\n",
      " 3   Anzahl WKAs                                       38 non-null     object\n",
      " 4   Koordinaten                                       47 non-null     object\n",
      " 5   Status                                            47 non-null     object\n",
      " 6   Inbetrieb­nahme (Jahr)                            47 non-null     object\n",
      " 7   Quellen, Anmerkungen                              42 non-null     object\n",
      " 8   Latitude                                          47 non-null     object\n",
      " 9   Longitude                                         45 non-null     object\n",
      "dtypes: object(10)\n",
      "memory usage: 3.8+ KB\n"
     ]
    }
   ],
   "source": [
    "#The coorinates ('Kkordinaten') will be split for two variablles\n",
    "#Latitude and Longitude\n",
    "\n",
    "fn = lambda x: pd.Series([i for i in (x.split(','))])\n",
    "coord = offshores['Koordinaten'].apply(fn)\n",
    "coord.rename(columns={0:'Latitude',1:'Longitude'},inplace=True)\n",
    "offshores['Latitude']=coord['Latitude']\n",
    "offshores['Longitude']=coord['Longitude']\n",
    "\n",
    "\n",
    "offshores.info()\n",
    "#we see the presence some NaNs \n",
    "#it is because the Windparks are 'In Planung'\n",
    "#One of the possibilities is to remove them from dataset,\n",
    "#Second is to label them as well (this another idea ) and \n",
    "#to label them in differnet colours on the map "
   ]
  },
  {
   "cell_type": "code",
   "execution_count": 12,
   "id": "5f408005",
   "metadata": {},
   "outputs": [],
   "source": [
    "#I removed them so far \n",
    "#As well as the rows woth Headers: Nordesee and Ostsee\n",
    "offshores.drop(offshores.loc[offshores['Status']=='in Planung'].index, inplace=True)\n",
    "offshores.drop(offshores.loc[offshores['Status']=='Nordsee'].index, inplace=True)\n",
    "offshores.drop(offshores.loc[offshores['Status']=='Ostsee'].index, inplace=True)\n",
    "offshores.drop(offshores.loc[offshores['Status']=='Planung eingestellt'].index, inplace=True)"
   ]
  },
  {
   "cell_type": "code",
   "execution_count": 13,
   "id": "0d1fdbba",
   "metadata": {},
   "outputs": [
    {
     "name": "stdout",
     "output_type": "stream",
     "text": [
      "<class 'pandas.core.frame.DataFrame'>\n",
      "Index: 33 entries, 1 to 42\n",
      "Data columns (total 12 columns):\n",
      " #   Column                                            Non-Null Count  Dtype  \n",
      "---  ------                                            --------------  -----  \n",
      " 0   Name                                              33 non-null     object \n",
      " 1   Leistung (MW)                                     33 non-null     object \n",
      " 2   Windkraftanlagentyp (Leistung, Rotordurchmesser)  33 non-null     object \n",
      " 3   Anzahl WKAs                                       33 non-null     object \n",
      " 4   Koordinaten                                       33 non-null     object \n",
      " 5   Status                                            33 non-null     object \n",
      " 6   Inbetrieb­nahme (Jahr)                            33 non-null     object \n",
      " 7   Quellen, Anmerkungen                              28 non-null     object \n",
      " 8   Latitude                                          33 non-null     object \n",
      " 9   Longitude                                         33 non-null     object \n",
      " 10  Latitude_cor                                      33 non-null     float64\n",
      " 11  Longitude_cor                                     33 non-null     float64\n",
      "dtypes: float64(2), object(10)\n",
      "memory usage: 3.4+ KB\n"
     ]
    }
   ],
   "source": [
    "offshores.info()"
   ]
  },
  {
   "cell_type": "code",
   "execution_count": 14,
   "id": "bb52c148",
   "metadata": {},
   "outputs": [
    {
     "data": {
      "text/plain": [
       "33"
      ]
     },
     "execution_count": 14,
     "metadata": {},
     "output_type": "execute_result"
    }
   ],
   "source": [
    "#The Latitude and Longitude are in the format which is not recognised by Folium\n",
    "#I have to bring it to decimal format\n",
    "\n",
    "offshores['Latitude'] = offshores['Latitude'].str.split('N', n=1).str.get(0)\n",
    "offshores['Longitude'] = offshores['Longitude'].str.split('O', n=1).str.get(0)\n",
    "\n",
    "\n",
    "offshores['Latitude'] = offshores['Latitude'].str.split('″', n=1).str.get(0)\n",
    "offshores['Longitude'] = offshores['Longitude'].str.split('″', n=1).str.get(0)\n",
    "\n",
    "Latitude_cor=[]\n",
    "\n",
    "for lat in offshores['Latitude']:\n",
    "    deg, minutes, seconds =  re.split('[°\\′]', lat)\n",
    "    Latitude_cor.append(float(deg) + float(minutes)/60 + float(seconds)/(60*60))\n",
    "    \n",
    "Longitude_cor=[]\n",
    "\n",
    "for long in offshores['Longitude']:\n",
    "    deg, minutes, seconds =  re.split('[°\\′]', long)\n",
    "    Longitude_cor.append(float(deg) + float(minutes)/60 + float(seconds)/(60*60))\n",
    "    \n",
    "len(Latitude_cor)"
   ]
  },
  {
   "cell_type": "code",
   "execution_count": 15,
   "id": "87446a17",
   "metadata": {},
   "outputs": [
    {
     "data": {
      "text/html": [
       "<div>\n",
       "<style scoped>\n",
       "    .dataframe tbody tr th:only-of-type {\n",
       "        vertical-align: middle;\n",
       "    }\n",
       "\n",
       "    .dataframe tbody tr th {\n",
       "        vertical-align: top;\n",
       "    }\n",
       "\n",
       "    .dataframe thead th {\n",
       "        text-align: right;\n",
       "    }\n",
       "</style>\n",
       "<table border=\"1\" class=\"dataframe\">\n",
       "  <thead>\n",
       "    <tr style=\"text-align: right;\">\n",
       "      <th></th>\n",
       "      <th>Name</th>\n",
       "      <th>Leistung (MW)</th>\n",
       "      <th>Windkraftanlagentyp (Leistung, Rotordurchmesser)</th>\n",
       "      <th>Anzahl WKAs</th>\n",
       "      <th>Koordinaten</th>\n",
       "      <th>Status</th>\n",
       "      <th>Inbetrieb­nahme (Jahr)</th>\n",
       "      <th>Quellen, Anmerkungen</th>\n",
       "      <th>Latitude</th>\n",
       "      <th>Longitude</th>\n",
       "      <th>Latitude_cor</th>\n",
       "      <th>Longitude_cor</th>\n",
       "    </tr>\n",
       "  </thead>\n",
       "  <tbody>\n",
       "    <tr>\n",
       "      <th>1</th>\n",
       "      <td>alpha ventus</td>\n",
       "      <td>6048</td>\n",
       "      <td>6 × REpower 5M (5,08 MW, 126,5 m) 6 × AREVA M5...</td>\n",
       "      <td>12</td>\n",
       "      <td>54° 0′ 30″ N, 6° 35′ 54″ O</td>\n",
       "      <td>in Betrieb</td>\n",
       "      <td>2010</td>\n",
       "      <td>NaN</td>\n",
       "      <td>54° 0′ 30</td>\n",
       "      <td>6° 35′ 54</td>\n",
       "      <td>54.008333</td>\n",
       "      <td>6.598333</td>\n",
       "    </tr>\n",
       "    <tr>\n",
       "      <th>2</th>\n",
       "      <td>BARD Offshore I</td>\n",
       "      <td>400</td>\n",
       "      <td>BARD 5.0 (5,0 MW, 122,0 m)</td>\n",
       "      <td>80</td>\n",
       "      <td>54° 21′ 30″ N, 5° 58′ 30″ O</td>\n",
       "      <td>in Betrieb</td>\n",
       "      <td>2013</td>\n",
       "      <td>NaN</td>\n",
       "      <td>54° 21′ 30</td>\n",
       "      <td>5° 58′ 30</td>\n",
       "      <td>54.358333</td>\n",
       "      <td>5.975000</td>\n",
       "    </tr>\n",
       "    <tr>\n",
       "      <th>3</th>\n",
       "      <td>Riffgat</td>\n",
       "      <td>1134</td>\n",
       "      <td>Siemens SWT-3.6-120 (3,78 MW, 120,0 m)</td>\n",
       "      <td>30</td>\n",
       "      <td>53° 41′ 24″ N, 6° 28′ 48″ O</td>\n",
       "      <td>in Betrieb</td>\n",
       "      <td>2014</td>\n",
       "      <td>[5]</td>\n",
       "      <td>53° 41′ 24</td>\n",
       "      <td>6° 28′ 48</td>\n",
       "      <td>53.690000</td>\n",
       "      <td>6.480000</td>\n",
       "    </tr>\n",
       "  </tbody>\n",
       "</table>\n",
       "</div>"
      ],
      "text/plain": [
       "              Name Leistung (MW)  \\\n",
       "1     alpha ventus          6048   \n",
       "2  BARD Offshore I           400   \n",
       "3          Riffgat          1134   \n",
       "\n",
       "    Windkraftanlagentyp (Leistung, Rotordurchmesser) Anzahl WKAs  \\\n",
       "1  6 × REpower 5M (5,08 MW, 126,5 m) 6 × AREVA M5...          12   \n",
       "2                         BARD 5.0 (5,0 MW, 122,0 m)          80   \n",
       "3             Siemens SWT-3.6-120 (3,78 MW, 120,0 m)          30   \n",
       "\n",
       "                   Koordinaten      Status Inbetrieb­nahme (Jahr)  \\\n",
       "1   54° 0′ 30″ N, 6° 35′ 54″ O  in Betrieb                   2010   \n",
       "2  54° 21′ 30″ N, 5° 58′ 30″ O  in Betrieb                   2013   \n",
       "3  53° 41′ 24″ N, 6° 28′ 48″ O  in Betrieb                   2014   \n",
       "\n",
       "  Quellen, Anmerkungen    Latitude   Longitude  Latitude_cor  Longitude_cor  \n",
       "1                  NaN   54° 0′ 30   6° 35′ 54     54.008333       6.598333  \n",
       "2                  NaN  54° 21′ 30   5° 58′ 30     54.358333       5.975000  \n",
       "3                  [5]  53° 41′ 24   6° 28′ 48     53.690000       6.480000  "
      ]
     },
     "execution_count": 15,
     "metadata": {},
     "output_type": "execute_result"
    }
   ],
   "source": [
    "offshores['Latitude_cor']=Latitude_cor\n",
    "offshores['Longitude_cor']=Longitude_cor\n",
    "offshores.head(3)"
   ]
  },
  {
   "cell_type": "code",
   "execution_count": 16,
   "id": "fb9ef89a",
   "metadata": {},
   "outputs": [
    {
     "name": "stdout",
     "output_type": "stream",
     "text": [
      "<class 'pandas.core.frame.DataFrame'>\n",
      "Index: 33 entries, 1 to 42\n",
      "Data columns (total 5 columns):\n",
      " #   Column         Non-Null Count  Dtype  \n",
      "---  ------         --------------  -----  \n",
      " 0   Name           33 non-null     object \n",
      " 1   Anzahl WKAs    33 non-null     object \n",
      " 2   Latitude_cor   33 non-null     float64\n",
      " 3   Longitude_cor  33 non-null     float64\n",
      " 4   Status         33 non-null     object \n",
      "dtypes: float64(2), object(3)\n",
      "memory usage: 1.5+ KB\n"
     ]
    }
   ],
   "source": [
    "offshores_final=offshores[['Name', 'Anzahl WKAs', 'Latitude_cor', 'Longitude_cor','Status']]\n",
    "offshores_final.info()"
   ]
  },
  {
   "cell_type": "code",
   "execution_count": 18,
   "id": "6e381929",
   "metadata": {},
   "outputs": [],
   "source": [
    "offshores_final.to_csv('Offshores_Windparks.csv')"
   ]
  },
  {
   "cell_type": "code",
   "execution_count": 23,
   "id": "aea25873",
   "metadata": {},
   "outputs": [],
   "source": [
    "df=pd.read_csv('Offshores_Windparks.csv')"
   ]
  },
  {
   "cell_type": "code",
   "execution_count": 24,
   "id": "62527e15",
   "metadata": {},
   "outputs": [
    {
     "name": "stdout",
     "output_type": "stream",
     "text": [
      "<class 'pandas.core.frame.DataFrame'>\n",
      "RangeIndex: 33 entries, 0 to 32\n",
      "Data columns (total 6 columns):\n",
      " #   Column         Non-Null Count  Dtype  \n",
      "---  ------         --------------  -----  \n",
      " 0   Unnamed: 0     33 non-null     int64  \n",
      " 1   Name           33 non-null     object \n",
      " 2   Anzahl WKAs    33 non-null     int64  \n",
      " 3   Latitude_cor   33 non-null     float64\n",
      " 4   Longitude_cor  33 non-null     float64\n",
      " 5   Status         33 non-null     object \n",
      "dtypes: float64(2), int64(2), object(2)\n",
      "memory usage: 1.7+ KB\n"
     ]
    }
   ],
   "source": [
    "df.info()"
   ]
  },
  {
   "cell_type": "code",
   "execution_count": null,
   "id": "712d0e95",
   "metadata": {},
   "outputs": [],
   "source": []
  }
 ],
 "metadata": {
  "kernelspec": {
   "display_name": "Python 3 (ipykernel)",
   "language": "python",
   "name": "python3"
  },
  "language_info": {
   "codemirror_mode": {
    "name": "ipython",
    "version": 3
   },
   "file_extension": ".py",
   "mimetype": "text/x-python",
   "name": "python",
   "nbconvert_exporter": "python",
   "pygments_lexer": "ipython3",
   "version": "3.11.5"
  }
 },
 "nbformat": 4,
 "nbformat_minor": 5
}
